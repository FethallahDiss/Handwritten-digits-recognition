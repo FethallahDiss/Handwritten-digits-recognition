{
 "cells": [
  {
   "cell_type": "code",
   "execution_count": 32,
   "metadata": {},
   "outputs": [],
   "source": [
    "import turtle\n",
    "from turtle import Screen, Turtle\n",
    "import numpy as np\n",
    "import keras\n",
    "import tkinter as tk\n",
    "model = keras.models.load_model(\"mnist_keras_cnn_model.h5\")"
   ]
  },
  {
   "cell_type": "code",
   "execution_count": 141,
   "metadata": {},
   "outputs": [],
   "source": [
    "\n",
    "df=np.random.randint(10, size=(28, 28)) \n",
    "class DrawableGrid(tk.Frame):\n",
    "    def __init__(self, parent, width, height, size=5):\n",
    "        super().__init__(parent, bd=1, relief=\"sunken\")\n",
    "        self.width = width\n",
    "        self.height = height\n",
    "        self.size = size\n",
    "        canvas_width = width*size\n",
    "        canvas_height = height*size\n",
    "        self.canvas = tk.Canvas(self, bd=0, highlightthickness=0, width=canvas_width, height=canvas_height)\n",
    "        self.canvas.pack(fill=\"both\", expand=True, padx=2, pady=2)\n",
    "    \n",
    "\n",
    "        for row in range(self.height):\n",
    "            for column in range(self.width):\n",
    "                x0, y0 = (column * size), (row*size)\n",
    "                x1, y1 = (x0 + size), (y0 + size)\n",
    "                self.canvas.create_rectangle(x0, y0, x1, y1,\n",
    "                                             fill=\"white\", outline=\"gray\",\n",
    "                                             tags=(self._tag(row, column),\"cell\" ))\n",
    "        self.canvas.tag_bind(\"cell\", \"<B1-Motion>\", self.paint)\n",
    "        self.canvas.tag_bind(\"cell\", \"<1>\", self.paint)\n",
    "\n",
    "    def _tag(self, row, column):\n",
    "        \"\"\"Return the tag for a given row and column\"\"\"\n",
    "        tag = f\"{row},{column}\"\n",
    "        return tag\n",
    "\n",
    "    def get_pixels(self):\n",
    "        df=np.random.randint(10, size=(28, 28)) \n",
    "        row = \"\"\n",
    "        for row in range(self.height):\n",
    "            output = \"\"\n",
    "            for column in range(self.width):\n",
    "                color = self.canvas.itemcget(self._tag(row, column), \"fill\")\n",
    "                value = \"1\" if color == \"black\" else \"0\"\n",
    "                output += value\n",
    "                df[row][column]=value\n",
    "        df_reshaped = df.reshape(1, df.shape[0], df.shape[1], 1)\n",
    "        \n",
    "        Result = np.argmax(model.predict(255*df_reshaped))\n",
    "        print(Result)\n",
    "            \n",
    "            \n",
    "\n",
    "    def paint(self, event):\n",
    "        cell = self.canvas.find_closest(event.x, event.y)\n",
    "        self.canvas.itemconfigure(cell, fill=\"black\")\n",
    "        \n",
    "    def clear(self):\n",
    "        canvas.delete(\"all\")\n",
    "        \n",
    "\n",
    "\n"
   ]
  },
  {
   "cell_type": "code",
   "execution_count": 142,
   "metadata": {},
   "outputs": [],
   "source": [
    "root = tk.Tk()\n",
    "\n",
    "canvas = DrawableGrid(root, width=28, height=28, size=10)\n",
    "b = tk.Button(root, text=\"Read digit\", command=canvas.get_pixels)\n",
    "b.pack(side=\"top\")\n",
    "c = tk.Button(root, text=\"Clear all\", command=canvas.clearFrame)\n",
    "c.pack(side=\"top\")\n",
    "canvas.pack(fill=\"both\", expand=True)\n",
    "root.mainloop()\n"
   ]
  },
  {
   "cell_type": "code",
   "execution_count": 145,
   "metadata": {},
   "outputs": [
    {
     "data": {
      "text/plain": [
       "tkinter.Frame"
      ]
     },
     "execution_count": 145,
     "metadata": {},
     "output_type": "execute_result"
    }
   ],
   "source": [
    "tk.Frame"
   ]
  }
 ],
 "metadata": {
  "kernelspec": {
   "display_name": "Python 3",
   "language": "python",
   "name": "python3"
  },
  "language_info": {
   "codemirror_mode": {
    "name": "ipython",
    "version": 3
   },
   "file_extension": ".py",
   "mimetype": "text/x-python",
   "name": "python",
   "nbconvert_exporter": "python",
   "pygments_lexer": "ipython3",
   "version": "3.8.3"
  }
 },
 "nbformat": 4,
 "nbformat_minor": 4
}
